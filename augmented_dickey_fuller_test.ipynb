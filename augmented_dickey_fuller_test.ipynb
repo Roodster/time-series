{
 "cells": [
  {
   "cell_type": "code",
   "execution_count": null,
   "metadata": {},
   "outputs": [],
   "source": [
    "#**********************************************************************\n",
    "#Slide-30: Augmented Dickey-Fuller Test for Non-stationary/stationary check\n",
    "#**********************************************************************\n",
    "from pandas import read_csv\n",
    "from statsmodels.tsa.stattools import adfuller\n",
    "df  = read_csv('datasets/airline-passengers.csv', header=0, index_col=0)\n",
    "result = adfuller(df.values)\n",
    "print('p-value: %f' % result[1])"
   ]
  }
 ],
 "metadata": {
  "language_info": {
   "name": "python"
  },
  "orig_nbformat": 4
 },
 "nbformat": 4,
 "nbformat_minor": 2
}
