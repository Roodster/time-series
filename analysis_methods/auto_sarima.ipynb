{
 "cells": [
  {
   "cell_type": "code",
   "execution_count": 1,
   "metadata": {},
   "outputs": [],
   "source": [
    "#**********************************************************************\n",
    "#Slide-66: Auto-SARIMA\n",
    "# - Seasonal Auto Regressive Integrated Moving Average (SARIMA)\n",
    "# - Auto Regressive Integrated Moving Average (ARIMA)\n",
    "# - Auto Regressive Moving Average (ARMA)\n",
    "#**********************************************************************\n",
    "\n",
    "from pandas import read_csv\n",
    "from sklearn.metrics import mean_squared_error\n",
    "import matplotlib.pyplot as plt\n",
    "from pmdarima import auto_arima\n",
    "import pandas as pd\n"
   ]
  },
  {
   "cell_type": "code",
   "execution_count": 2,
   "metadata": {},
   "outputs": [],
   "source": [
    "path = 'datasets/airline-passengers.csv'"
   ]
  },
  {
   "cell_type": "code",
   "execution_count": 3,
   "metadata": {},
   "outputs": [
    {
     "name": "stdout",
     "output_type": "stream",
     "text": [
      "Performing stepwise search to minimize aic\n",
      " ARIMA(1,1,1)(0,1,1)[12]             : AIC=956.759, Time=0.24 sec\n",
      " ARIMA(0,1,0)(0,1,0)[12]             : AIC=964.984, Time=0.01 sec\n",
      " ARIMA(1,1,0)(1,1,0)[12]             : AIC=954.716, Time=0.10 sec\n",
      " ARIMA(0,1,1)(0,1,1)[12]             : AIC=955.249, Time=0.11 sec\n",
      " ARIMA(1,1,0)(0,1,0)[12]             : AIC=954.299, Time=0.02 sec\n",
      " ARIMA(1,1,0)(0,1,1)[12]             : AIC=955.101, Time=0.10 sec\n",
      " ARIMA(1,1,0)(1,1,1)[12]             : AIC=inf, Time=0.26 sec\n",
      " ARIMA(2,1,0)(0,1,0)[12]             : AIC=956.199, Time=0.04 sec\n",
      " ARIMA(1,1,1)(0,1,0)[12]             : AIC=955.820, Time=0.04 sec\n",
      " ARIMA(0,1,1)(0,1,0)[12]             : AIC=954.627, Time=0.03 sec\n",
      " ARIMA(2,1,1)(0,1,0)[12]             : AIC=952.589, Time=0.13 sec\n",
      " ARIMA(2,1,1)(1,1,0)[12]             : AIC=953.095, Time=0.36 sec\n",
      " ARIMA(2,1,1)(0,1,1)[12]             : AIC=953.398, Time=0.40 sec\n",
      " ARIMA(2,1,1)(1,1,1)[12]             : AIC=inf, Time=0.47 sec\n",
      " ARIMA(3,1,1)(0,1,0)[12]             : AIC=955.007, Time=0.09 sec\n",
      " ARIMA(2,1,2)(0,1,0)[12]             : AIC=952.957, Time=0.15 sec\n",
      " ARIMA(1,1,2)(0,1,0)[12]             : AIC=957.453, Time=0.06 sec\n",
      " ARIMA(3,1,0)(0,1,0)[12]             : AIC=954.284, Time=0.05 sec\n",
      " ARIMA(3,1,2)(0,1,0)[12]             : AIC=953.768, Time=0.24 sec\n",
      " ARIMA(2,1,1)(0,1,0)[12] intercept   : AIC=959.471, Time=0.21 sec\n",
      "\n",
      "Best model:  ARIMA(2,1,1)(0,1,0)[12]          \n",
      "Total fit time: 3.111 seconds\n"
     ]
    },
    {
     "data": {
      "text/plain": [
       "<matplotlib.legend.Legend at 0x1ede77557c0>"
      ]
     },
     "execution_count": 3,
     "metadata": {},
     "output_type": "execute_result"
    },
    {
     "data": {
      "image/png": "[encoded data removed]",
      "text/plain": [
       "<Figure size 432x288 with 1 Axes>"
      ]
     },
     "metadata": {
      "needs_background": "light"
     },
     "output_type": "display_data"
    }
   ],
   "source": [
    "df = read_csv(path, header=0, parse_dates=[0], index_col=0)\n",
    "train, test = df[1:len(df)-7], df[len(df)-7:]\n",
    "# SARIMA with automatic hyperparameter setting\n",
    "model = auto_arima(train, start_p=1, start_q=1, max_p=3, max_q=3, m=12,\n",
    "                           start_P=0, seasonal=True, d=1, D=1, \n",
    "                           trace=True,  error_action='ignore',  \n",
    "                            suppress_warnings=True, stepwise=True)\n",
    "model.fit(train)\n",
    "forecast = model.predict(n_periods=len(test))\n",
    "plt.plot(test.values,label='Actual')\n",
    "plt.plot(forecast, color='red',label='SARIMA'+str(model.order)+str(model.seasonal_order))\n",
    "plt.legend(loc='best')\n"
   ]
  }
 ],
 "metadata": {
  "interpreter": {
   "hash": "150ea12baebc17f38d5461f5b978e59c98a5f2d5ebdc38d94c3be82225186977"
  },
  "kernelspec": {
   "display_name": "Python 3.9.7 64-bit",
   "language": "python",
   "name": "python3"
  },
  "language_info": {
   "codemirror_mode": {
    "name": "ipython",
    "version": 3
   },
   "file_extension": ".py",
   "mimetype": "text/x-python",
   "name": "python",
   "nbconvert_exporter": "python",
   "pygments_lexer": "ipython3",
   "version": "3.9.7"
  },
  "orig_nbformat": 4
 },
 "nbformat": 4,
 "nbformat_minor": 2
}
