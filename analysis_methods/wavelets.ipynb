{
 "cells": [
  {
   "cell_type": "code",
   "execution_count": null,
   "metadata": {},
   "outputs": [],
   "source": [
    "#**********************************************************************\n",
    "#Slide-163: Wavelets\n",
    "#**********************************************************************\n",
    "\n",
    "import numpy as np\n",
    "import pywt\n",
    "import matplotlib.pyplot as plt\n",
    "import pandas as pd"
   ]
  },
  {
   "cell_type": "code",
   "execution_count": null,
   "metadata": {},
   "outputs": [],
   "source": [
    "path = 'datasets/airline-passengers.csv'"
   ]
  },
  {
   "cell_type": "code",
   "execution_count": null,
   "metadata": {},
   "outputs": [],
   "source": [
    "\n",
    "df= pd.read_csv(path, header=0, index_col=0)\n",
    "x=df.iloc[:,0]\n",
    "ts = x.values\n",
    "thresh = 0.30*np.nanmax(ts)\n",
    "coeff = pywt.wavedec(ts, \"db4\", level=1)\n",
    "coeff[1:] = (pywt.threshold(i, value=thresh) for i in coeff[1:])\n",
    "ts_reconstructed = pywt.waverec(coeff, \"db4\" )\n",
    "plt.plot(ts, label='Raw Time Series')\n",
    "plt.plot(ts_reconstructed, label='Wavelets Smoothing', linestyle='--')\n",
    "plt.legend(loc='best')\n",
    "plt.show()\n"
   ]
  }
 ],
 "metadata": {
  "interpreter": {
   "hash": "150ea12baebc17f38d5461f5b978e59c98a5f2d5ebdc38d94c3be82225186977"
  },
  "kernelspec": {
   "display_name": "Python 3.9.7 64-bit",
   "language": "python",
   "name": "python3"
  },
  "language_info": {
   "name": "python",
   "version": "3.9.7"
  },
  "orig_nbformat": 4
 },
 "nbformat": 4,
 "nbformat_minor": 2
}
