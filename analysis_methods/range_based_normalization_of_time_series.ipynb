{
 "cells": [
  {
   "cell_type": "code",
   "execution_count": 4,
   "metadata": {},
   "outputs": [],
   "source": [
    "\n",
    "#**********************************************************************\n",
    "#Slide-182: Range-based Normalization of Time Series\n",
    "#**********************************************************************\n",
    "\n",
    "from pandas import read_csv\n",
    "from sklearn.preprocessing import MinMaxScaler"
   ]
  },
  {
   "cell_type": "code",
   "execution_count": 5,
   "metadata": {},
   "outputs": [],
   "source": [
    "path = 'datasets/airline-passengers.csv'"
   ]
  },
  {
   "cell_type": "code",
   "execution_count": 6,
   "metadata": {},
   "outputs": [
    {
     "name": "stdout",
     "output_type": "stream",
     "text": [
      "Min: 112.000000, Max: 148.000000\n",
      "[[0.        ]\n",
      " [0.16666667]\n",
      " [0.55555556]\n",
      " [0.47222222]\n",
      " [0.25      ]\n",
      " [0.63888889]\n",
      " [1.        ]\n",
      " [1.        ]\n",
      " [0.66666667]\n",
      " [0.19444444]]\n",
      "[[112.]\n",
      " [118.]\n",
      " [132.]\n",
      " [129.]\n",
      " [121.]\n",
      " [135.]\n",
      " [148.]\n",
      " [148.]\n",
      " [136.]\n",
      " [119.]]\n"
     ]
    }
   ],
   "source": [
    "df = read_csv(path, header=0, index_col=0)\n",
    "ts=df.iloc[:10, :]\n",
    "values = ts.values\n",
    "values = values.reshape((len(values), 1))\n",
    "scaler = MinMaxScaler(feature_range=(0, 1))\n",
    "scaler = scaler.fit(values)\n",
    "print('Min: %f, Max: %f' % (scaler.data_min_, scaler.data_max_))\n",
    "normalized = scaler.transform(values)\n",
    "print (normalized)\n",
    "inversed = scaler.inverse_transform(normalized)\n",
    "print (inversed)\n"
   ]
  }
 ],
 "metadata": {
  "language_info": {
   "name": "python"
  },
  "orig_nbformat": 4
 },
 "nbformat": 4,
 "nbformat_minor": 2
}
