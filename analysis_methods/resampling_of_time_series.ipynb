{
 "cells": [
  {
   "cell_type": "code",
   "execution_count": 1,
   "metadata": {},
   "outputs": [],
   "source": [
    "#**********************************************************************\n",
    "#Slide-182: Resampling (Upsampling/Downsampling) of Time Series\n",
    "#**********************************************************************\n",
    "\n",
    "\n",
    "from pandas import read_csv"
   ]
  },
  {
   "cell_type": "code",
   "execution_count": 2,
   "metadata": {},
   "outputs": [],
   "source": [
    "path = 'datasets/airline-passengers.csv'"
   ]
  },
  {
   "cell_type": "code",
   "execution_count": 3,
   "metadata": {},
   "outputs": [
    {
     "name": "stderr",
     "output_type": "stream",
     "text": [
      "C:\\Users\\Interns\\AppData\\Local\\Temp\\ipykernel_5288\\4196642302.py:1: FutureWarning: The squeeze argument has been deprecated and will be removed in a future version. Append .squeeze(\"columns\") to the call to squeeze.\n",
      "\n",
      "\n",
      "  df = read_csv(path, header=0, parse_dates=[0], index_col=0, squeeze=True)\n"
     ]
    },
    {
     "data": {
      "text/plain": [
       "Month\n",
       "1949-12-31    126.666667\n",
       "1950-12-31    139.666667\n",
       "1951-12-31    170.166667\n",
       "1952-12-31    197.000000\n",
       "1953-12-31    225.000000\n",
       "1954-12-31    238.916667\n",
       "1955-12-31    284.000000\n",
       "1956-12-31    328.250000\n",
       "1957-12-31    368.416667\n",
       "1958-12-31    381.000000\n",
       "1959-12-31    428.333333\n",
       "1960-12-31    476.166667\n",
       "Freq: A-DEC, Name: Passengers, dtype: float64"
      ]
     },
     "execution_count": 3,
     "metadata": {},
     "output_type": "execute_result"
    }
   ],
   "source": [
    "df = read_csv(path, header=0, parse_dates=[0], index_col=0, squeeze=True)\n",
    "df.resample('D').interpolate() #Upsampling\n",
    "df.resample('Y').mean() #Downsampling"
   ]
  }
 ],
 "metadata": {
  "interpreter": {
   "hash": "150ea12baebc17f38d5461f5b978e59c98a5f2d5ebdc38d94c3be82225186977"
  },
  "kernelspec": {
   "display_name": "Python 3.9.7 64-bit",
   "language": "python",
   "name": "python3"
  },
  "language_info": {
   "codemirror_mode": {
    "name": "ipython",
    "version": 3
   },
   "file_extension": ".py",
   "mimetype": "text/x-python",
   "name": "python",
   "nbconvert_exporter": "python",
   "pygments_lexer": "ipython3",
   "version": "3.9.7"
  },
  "orig_nbformat": 4
 },
 "nbformat": 4,
 "nbformat_minor": 2
}
