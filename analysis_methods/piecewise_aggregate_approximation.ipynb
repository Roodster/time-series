{
 "cells": [
  {
   "cell_type": "code",
   "execution_count": null,
   "metadata": {},
   "outputs": [],
   "source": [
    "#**********************************************************************\n",
    "#Slide-163: Piecewise Aggregate Approximation (PAA)\n",
    "#**********************************************************************\n",
    "import numpy\n",
    "import matplotlib.pyplot as plt\n",
    "from tslearn.preprocessing import TimeSeriesScalerMeanVariance\n",
    "from tslearn.piecewise import PiecewiseAggregateApproximation\n",
    "import pandas as pd"
   ]
  },
  {
   "cell_type": "code",
   "execution_count": null,
   "metadata": {},
   "outputs": [],
   "source": [
    "path = 'datasets/airline-passengers.csv'"
   ]
  },
  {
   "cell_type": "code",
   "execution_count": null,
   "metadata": {},
   "outputs": [],
   "source": [
    "df = pd.read_csv(path, header=0, index_col=0)\n",
    "df_Series=df.iloc[:,0]\n",
    "dataset = df_Series.values\n",
    "dataset=dataset.reshape(1, 144)\n",
    "scaler = TimeSeriesScalerMeanVariance(mu=0., std=1.)\n",
    "dataset = scaler.fit_transform(dataset)\n",
    "paa = PiecewiseAggregateApproximation(n_segments=12)\n",
    "paa_dataset_inv = paa.inverse_transform(paa.fit_transform(dataset))\n",
    "plt.plot(dataset[0].ravel(),label='Raw Time Series')\n",
    "plt.plot(paa_dataset_inv[0].ravel(), label='PAA')\n",
    "plt.legend(loc='best')\n",
    "plt.show()"
   ]
  }
 ],
 "metadata": {
  "language_info": {
   "name": "python"
  },
  "orig_nbformat": 4
 },
 "nbformat": 4,
 "nbformat_minor": 2
}
