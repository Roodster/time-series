{
 "cells": [
  {
   "cell_type": "code",
   "execution_count": 1,
   "metadata": {},
   "outputs": [],
   "source": [
    "#**********************************************************************\n",
    "#Slide-182: Standardization of Time Series\n",
    "#**********************************************************************\n",
    "\n",
    "from pandas import read_csv\n",
    "from sklearn.preprocessing import StandardScaler\n",
    "from math import sqrt"
   ]
  },
  {
   "cell_type": "code",
   "execution_count": 2,
   "metadata": {},
   "outputs": [],
   "source": [
    "path = 'datasets/airline-passengers.csv'"
   ]
  },
  {
   "cell_type": "code",
   "execution_count": 3,
   "metadata": {},
   "outputs": [
    {
     "name": "stdout",
     "output_type": "stream",
     "text": [
      "Mean: 129.800000, Std: 11.762653\n",
      "[[-1.51326409]\n",
      " [-1.00317507]\n",
      " [ 0.18703264]\n",
      " [-0.06801187]\n",
      " [-0.74813056]\n",
      " [ 0.44207715]\n",
      " [ 1.54727002]\n",
      " [ 1.54727002]\n",
      " [ 0.52709199]\n",
      " [-0.91816023]]\n",
      "[[112.]\n",
      " [118.]\n",
      " [132.]\n",
      " [129.]\n",
      " [121.]\n",
      " [135.]\n",
      " [148.]\n",
      " [148.]\n",
      " [136.]\n",
      " [119.]]\n"
     ]
    }
   ],
   "source": [
    "df= read_csv(path, header=0, index_col=0)\n",
    "ts=df.iloc[:10, :]\n",
    "values = ts.values\n",
    "values = values.reshape((len(values), 1))\n",
    "scaler = StandardScaler()\n",
    "scaler = scaler.fit(values)\n",
    "print('Mean: %f, Std: %f' % (scaler.mean_, sqrt(scaler.var_)))\n",
    "normalized = scaler.transform(values)\n",
    "print (normalized)\n",
    "inversed = scaler.inverse_transform(normalized)\n",
    "print (inversed)"
   ]
  }
 ],
 "metadata": {
  "interpreter": {
   "hash": "150ea12baebc17f38d5461f5b978e59c98a5f2d5ebdc38d94c3be82225186977"
  },
  "kernelspec": {
   "display_name": "Python 3.9.7 64-bit",
   "language": "python",
   "name": "python3"
  },
  "language_info": {
   "codemirror_mode": {
    "name": "ipython",
    "version": 3
   },
   "file_extension": ".py",
   "mimetype": "text/x-python",
   "name": "python",
   "nbconvert_exporter": "python",
   "pygments_lexer": "ipython3",
   "version": "3.9.7"
  },
  "orig_nbformat": 4
 },
 "nbformat": 4,
 "nbformat_minor": 2
}
