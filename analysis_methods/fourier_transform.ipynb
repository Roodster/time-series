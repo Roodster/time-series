{
 "cells": [
  {
   "cell_type": "code",
   "execution_count": null,
   "metadata": {},
   "outputs": [],
   "source": [
    "'''\n",
    "NOT WORKING: MISSING VARIABLES \n",
    "- amplitude1\n",
    "- amplitude2\n",
    "\n",
    "'''\n",
    "\n",
    "\n",
    "#**********************************************************************\n",
    "#Slide-158: Fourier Transform \n",
    "#**********************************************************************\n",
    "\n",
    "import numpy as np\n",
    "import matplotlib.pyplot as plotter"
   ]
  },
  {
   "cell_type": "code",
   "execution_count": null,
   "metadata": {},
   "outputs": [],
   "source": [
    "path = 'datasets/airline-passengers.csv'"
   ]
  },
  {
   "cell_type": "code",
   "execution_count": null,
   "metadata": {},
   "outputs": [],
   "source": [
    "samplingFrequency=100\n",
    "time = np.arange(0, 1, 1/samplingFrequency)\n",
    "sine1 = np.sin(2*np.pi*2*time)\n",
    "sine2 = np.sin(2*np.pi*7*time)\n",
    "ts = sine1 + sine2\n",
    "plt.plot(time,ts, label='Time Series' )\n",
    "plt.plot(time,amplitude1, label='Sine 2 Hz')\n",
    "plt.plot(time,amplitude2, label='Sine 7 Hz')\n",
    "plt.ylabel('Amplitude')\n",
    "plt.xlabel('Time')\n",
    "plt.legend(loc='best')\n",
    "plt.show()\n",
    "fourierTransform = np.fft.fft(ts)/len(ts)\n",
    "fourierTransform = fourierTransform[range(int(len(ts)/2))] \n",
    "tpCount = len(ts)\n",
    "values  = np.arange(int(tpCount/2))\n",
    "timePeriod  = tpCount/samplingFrequency\n",
    "frequencies = values/timePeriod\n",
    "plt.plot(frequencies, abs(fourierTransform))\n",
    "plt.xlabel('Frequency')\n",
    "plt.ylabel('Amplitude')\n",
    "plt.show()"
   ]
  }
 ],
 "metadata": {
  "language_info": {
   "name": "python"
  },
  "orig_nbformat": 4
 },
 "nbformat": 4,
 "nbformat_minor": 2
}
