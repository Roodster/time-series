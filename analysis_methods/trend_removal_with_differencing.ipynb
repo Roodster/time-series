{
 "cells": [
  {
   "cell_type": "code",
   "execution_count": null,
   "metadata": {},
   "outputs": [],
   "source": [
    "#**********************************************************************\n",
    "#Slide-33: Trend Removal with differencing\n",
    "#**********************************************************************\n",
    "from pandas import datetime\n",
    "from matplotlib import pyplot\n",
    "import pandas as pd"
   ]
  },
  {
   "cell_type": "code",
   "execution_count": null,
   "metadata": {},
   "outputs": [],
   "source": [
    "path = 'datasets/airline-passengers.csv'"
   ]
  },
  {
   "cell_type": "code",
   "execution_count": null,
   "metadata": {},
   "outputs": [],
   "source": [
    "series = pd.read_csv(path, header=0, parse_dates=[0], index_col=0, squeeze=True)\n",
    "diff = series.diff()\n",
    "pyplot.plot(series.values)\n",
    "pyplot.plot(diff.values)"
   ]
  }
 ],
 "metadata": {
  "language_info": {
   "name": "python"
  },
  "orig_nbformat": 4
 },
 "nbformat": 4,
 "nbformat_minor": 2
}
