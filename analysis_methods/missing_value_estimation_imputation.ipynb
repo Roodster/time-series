{
 "cells": [
  {
   "cell_type": "code",
   "execution_count": null,
   "metadata": {},
   "outputs": [],
   "source": [
    "#**********************************************************************\n",
    "#Slide-179: Missing Value Estimation (Imputation\n",
    "#**********************************************************************\n",
    "\n",
    "import pandas as pd\n",
    "import numpy as np"
   ]
  },
  {
   "cell_type": "code",
   "execution_count": null,
   "metadata": {},
   "outputs": [],
   "source": [
    "path = 'datasets/airline-passengers.csv'"
   ]
  },
  {
   "cell_type": "code",
   "execution_count": null,
   "metadata": {},
   "outputs": [],
   "source": [
    "\n",
    "df = pd.read_csv(path, header=0, index_col=0)\n",
    "x=df.iloc[:,0]\n",
    "x=x.astype('float64')\n",
    "xt=x[4]\n",
    "x[4]=np.nan\n",
    "y=x.interpolate()\n",
    "print ([xt, y[4]])\n"
   ]
  }
 ],
 "metadata": {
  "language_info": {
   "name": "python"
  },
  "orig_nbformat": 4
 },
 "nbformat": 4,
 "nbformat_minor": 2
}
