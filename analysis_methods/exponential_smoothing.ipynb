{
 "cells": [
  {
   "cell_type": "code",
   "execution_count": 1,
   "metadata": {},
   "outputs": [],
   "source": [
    "#**********************************************************************\n",
    "#Slide-43: Exponential Smoothing \n",
    "# - Simple Exponential Smoothing (Brown,1956)\n",
    "# - Double Exponential Smoothing (Holt, 1957)\n",
    "# - Triple Exponential Smoothing (Holt-Winter, 1960)\n",
    "#**********************************************************************\n",
    "import pandas as pd\n",
    "import numpy as np\n",
    "import matplotlib.pyplot as plt\n",
    "from statsmodels.tsa.holtwinters import ExponentialSmoothing\n",
    "from statsmodels.tsa.holtwinters import SimpleExpSmoothing"
   ]
  },
  {
   "cell_type": "code",
   "execution_count": 2,
   "metadata": {},
   "outputs": [],
   "source": [
    "path = 'datasets/airline-passengers.csv'"
   ]
  },
  {
   "cell_type": "code",
   "execution_count": 4,
   "metadata": {},
   "outputs": [
    {
     "data": {
      "text/plain": [
       "Month\n",
       "1949-01-01    125.494521\n",
       "1949-02-01    122.795617\n",
       "1949-03-01    121.836494\n",
       "1949-04-01    123.869195\n",
       "1949-05-01    124.895356\n",
       "                 ...    \n",
       "1960-08-01    488.767616\n",
       "1960-09-01    512.214093\n",
       "1960-10-01    511.371274\n",
       "1960-11-01    501.297019\n",
       "1960-12-01    479.037615\n",
       "Freq: MS, Length: 144, dtype: float64"
      ]
     },
     "execution_count": 4,
     "metadata": {},
     "output_type": "execute_result"
    }
   ],
   "source": [
    "\n",
    "df = pd.read_csv(path, parse_dates=['Month'],index_col='Month')\n",
    "df.index.freq = 'MS'\n",
    "ts=df.iloc[:, 0]\n",
    "es1 = SimpleExpSmoothing(ts).fit(smoothing_level=0.2)\n",
    "ts_es1 = es1.predict(start=ts.index[0], end=ts.index[-1])\n",
    "es2 = ExponentialSmoothing(ts, trend='add').fit(smoothing_level=0.2,smoothing_trend=0.2)\n",
    "ts_es2 = es2.predict(start=ts.index[0], end=ts.index[-1])\n",
    "es3 = ExponentialSmoothing(ts, trend='add',seasonal='mul', seasonal_periods=12).fit(smoothing_level=0.2,smoothing_trend=0.2,smoothing_seasonal=0.2)\n",
    "ts_es3 = es3.predict(start=ts.index[0], end=ts.index[-1])\n",
    "\n",
    "ts_es1\n"
   ]
  },
  {
   "cell_type": "code",
   "execution_count": 5,
   "metadata": {},
   "outputs": [
    {
     "data": {
      "text/plain": [
       "Month\n",
       "1949-01-01    123.539331\n",
       "1949-02-01    121.351549\n",
       "1949-03-01    120.667262\n",
       "1949-04-01    123.373141\n",
       "1949-05-01    125.162919\n",
       "                 ...    \n",
       "1960-08-01    508.504304\n",
       "1960-09-01    542.562816\n",
       "1960-10-01    548.827113\n",
       "1960-11-01    540.925466\n",
       "1960-12-01    514.367130\n",
       "Freq: MS, Length: 144, dtype: float64"
      ]
     },
     "execution_count": 5,
     "metadata": {},
     "output_type": "execute_result"
    }
   ],
   "source": [
    "ts_es2"
   ]
  },
  {
   "cell_type": "code",
   "execution_count": 6,
   "metadata": {},
   "outputs": [
    {
     "data": {
      "text/plain": [
       "Month\n",
       "1949-01-01    110.693742\n",
       "1949-02-01    107.832974\n",
       "1949-03-01    128.667063\n",
       "1949-04-01    130.464821\n",
       "1949-05-01    131.970864\n",
       "                 ...    \n",
       "1960-08-01    607.100051\n",
       "1960-09-01    514.199212\n",
       "1960-10-01    448.590462\n",
       "1960-11-01    394.620551\n",
       "1960-12-01    440.602208\n",
       "Freq: MS, Length: 144, dtype: float64"
      ]
     },
     "execution_count": 6,
     "metadata": {},
     "output_type": "execute_result"
    }
   ],
   "source": [
    "ts_es3"
   ]
  }
 ],
 "metadata": {
  "interpreter": {
   "hash": "150ea12baebc17f38d5461f5b978e59c98a5f2d5ebdc38d94c3be82225186977"
  },
  "kernelspec": {
   "display_name": "Python 3.9.7 64-bit",
   "language": "python",
   "name": "python3"
  },
  "language_info": {
   "codemirror_mode": {
    "name": "ipython",
    "version": 3
   },
   "file_extension": ".py",
   "mimetype": "text/x-python",
   "name": "python",
   "nbconvert_exporter": "python",
   "pygments_lexer": "ipython3",
   "version": "3.9.7"
  },
  "orig_nbformat": 4
 },
 "nbformat": 4,
 "nbformat_minor": 2
}
