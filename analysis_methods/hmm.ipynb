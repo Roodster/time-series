{
 "cells": [
  {
   "cell_type": "code",
   "execution_count": 2,
   "metadata": {},
   "outputs": [],
   "source": [
    "#**********************************************************************\n",
    "#Slide-103: Hidden Markov Model\n",
    "#**********************************************************************\n",
    "\n",
    "import numpy as np\n",
    "from hmmlearn import hmm"
   ]
  },
  {
   "cell_type": "code",
   "execution_count": 3,
   "metadata": {},
   "outputs": [],
   "source": [
    "path = 'datasets/airline-passengers.csv'"
   ]
  },
  {
   "cell_type": "code",
   "execution_count": 4,
   "metadata": {},
   "outputs": [
    {
     "name": "stderr",
     "output_type": "stream",
     "text": [
      "Fitting a model with 908 free scalar parameters with only 6 data points will result in a degenerate solution.\n"
     ]
    },
    {
     "name": "stdout",
     "output_type": "stream",
     "text": [
      "Possible Velocity: 55, 55, 55, 45, 50, 50\n"
     ]
    }
   ],
   "source": [
    "states = [\"45\", \"50\", \"55\"] \n",
    "observations = [\"200\", \"225\",\"250\",\"275\",\"300\"]\n",
    "start_probability = np.array([0.1, 0.8, 0.1])\n",
    "transition_probability = np.array([\n",
    "  [0.6, 0.3, 0.1],\n",
    "  [0.1, 0.7, 0.2],\n",
    "  [0.1, 0.3, 0.6]\n",
    "])\n",
    "emission_probability = np.array([\n",
    "  [0.2, 0.5, 0.2, 0.05, 0.05],\n",
    "  [0.05, 0.15, 0.6, 0.15, 0.05],\n",
    "  [0.05, 0.15, 0.2, 0.5, 0.1]\n",
    "])\n",
    "\n",
    "n_states = len(states)\n",
    "n_observations = len(observations)\n",
    "model = hmm.MultinomialHMM(n_components=n_states)\n",
    "model.startprob=start_probability\n",
    "model.transmat=transition_probability\n",
    "model.emissionprob=emission_probability\n",
    "observed_dx = np.array([[225, 225, 225, 250, 275, 300]]).T\n",
    "model = model.fit(observed_dx)\n",
    "hidden_states = model.predict(observed_dx) \n",
    "print(\"Possible Velocity:\", \", \".join(map(lambda x: states[x], hidden_states)))\n"
   ]
  }
 ],
 "metadata": {
  "interpreter": {
   "hash": "150ea12baebc17f38d5461f5b978e59c98a5f2d5ebdc38d94c3be82225186977"
  },
  "kernelspec": {
   "display_name": "Python 3.9.7 64-bit",
   "language": "python",
   "name": "python3"
  },
  "language_info": {
   "codemirror_mode": {
    "name": "ipython",
    "version": 3
   },
   "file_extension": ".py",
   "mimetype": "text/x-python",
   "name": "python",
   "nbconvert_exporter": "python",
   "pygments_lexer": "ipython3",
   "version": "3.9.7"
  },
  "orig_nbformat": 4
 },
 "nbformat": 4,
 "nbformat_minor": 2
}
